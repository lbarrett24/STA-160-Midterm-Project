{
 "cells": [
  {
   "cell_type": "markdown",
   "id": "59002ccf",
   "metadata": {},
   "source": [
    "# Decision Tree"
   ]
  },
  {
   "cell_type": "markdown",
   "id": "cdb99830",
   "metadata": {},
   "source": [
    "## Decision Tree for Fused HD+Stroke Data"
   ]
  },
  {
   "cell_type": "code",
   "execution_count": 25,
   "id": "6e68c6d5",
   "metadata": {},
   "outputs": [
    {
     "name": "stdout",
     "output_type": "stream",
     "text": [
      "HighBP               category\n",
      "HighChol             category\n",
      "CholCheck            category\n",
      "BMI                  category\n",
      "Smoker               category\n",
      "Diabetes             category\n",
      "PhysActivity         category\n",
      "Fruits               category\n",
      "Veggies              category\n",
      "HvyAlcoholConsump    category\n",
      "AnyHealthcare        category\n",
      "NoDocbcCost          category\n",
      "GenHlth              category\n",
      "MentHlth             category\n",
      "PhysHlth             category\n",
      "DiffWalk             category\n",
      "Sex                  category\n",
      "Age                  category\n",
      "Education            category\n",
      "Income               category\n",
      "HD+Stroke            category\n",
      "dtype: object\n"
     ]
    }
   ],
   "source": [
    "#df_hd_stroke csv will be fused HD+Stroke data\n",
    "df_hd_stroke.to_csv('df_hd_stroke.csv', index=False)\n",
    "\n",
    "# Load the data // dtype category specified to load all data as categories\n",
    "\n",
    "df_hd_stroke = pd.read_csv('df_hd_stroke.csv', dtype='category')\n",
    "df_hd_stroke.index.name = 'case'\n",
    "\n",
    "#making sure all columns we want are present\n",
    "print(df_hd_stroke.dtypes)"
   ]
  },
  {
   "cell_type": "code",
   "execution_count": 26,
   "id": "4aa79610",
   "metadata": {},
   "outputs": [
    {
     "data": {
      "text/plain": [
       "DecisionTreeClassifier(random_state=42)"
      ]
     },
     "execution_count": 26,
     "metadata": {},
     "output_type": "execute_result"
    }
   ],
   "source": [
    "\n",
    "from sklearn.tree import DecisionTreeClassifier\n",
    "from sklearn.preprocessing import LabelEncoder\n",
    "from sklearn.model_selection import train_test_split\n",
    "from sklearn.tree import plot_tree\n",
    "\n",
    "# Load the data // already done above\n",
    "#df_hd_stroke = pd.read_csv('your_file_path.csv')\n",
    "\n",
    "# Encode the categorical variables as numeric using LabelEncoder\n",
    "le2 = LabelEncoder()\n",
    "for col in df_hd_stroke.columns:\n",
    "    if df_hd_stroke[col].dtype == 'category':\n",
    "        df_hd_stroke[col] = le2.fit_transform(df_hd_stroke[col])\n",
    "\n",
    "# Define the predictor and target variables\n",
    "X2 = df_hd_stroke.drop(['HD+Stroke'], axis=1)\n",
    "y2 = df_hd_stroke['HD+Stroke']\n",
    "\n",
    "# Split the data into training and testing sets\n",
    "X_train2, X_test2, y_train2, y_test2 = train_test_split(X2, y2, test_size=0.2, random_state=42)\n",
    "\n",
    "# Create a decision tree model\n",
    "dt2 = DecisionTreeClassifier(random_state=42)\n",
    "\n",
    "# Fit the model to the training data\n",
    "dt2.fit(X_train2, y_train2)\n",
    "\n",
    "# Plot the decision tree\n",
    "#dont need to plot, not legible and very taxing on computer/ takes long time to run\n",
    "#plot_tree(dt, feature_names=X.columns, class_names=['0','1'], filled=True)"
   ]
  },
  {
   "cell_type": "markdown",
   "id": "2a99f984",
   "metadata": {},
   "source": [
    "### Decision Tree Feature Importance for Fused HD+Stroke"
   ]
  },
  {
   "cell_type": "code",
   "execution_count": 27,
   "id": "ce1afff6",
   "metadata": {},
   "outputs": [
    {
     "data": {
      "image/png": "[encoded data removed]",
      "text/plain": [
       "<Figure size 1440x720 with 1 Axes>"
      ]
     },
     "metadata": {
      "needs_background": "light"
     },
     "output_type": "display_data"
    }
   ],
   "source": [
    "# Feature Importance based on decision tree model\n",
    "\n",
    "import matplotlib.pyplot as plt\n",
    "\n",
    "plt.figure(figsize=(20,10))\n",
    "plt.barh(X_train2.columns, dt2.feature_importances_)\n",
    "plt.show()"
   ]
  },
  {
   "cell_type": "markdown",
   "id": "8f2ccd74",
   "metadata": {},
   "source": [
    "## Dropping Non-Important Variables and Running Another Decision Tree"
   ]
  },
  {
   "cell_type": "markdown",
   "id": "7132b8eb",
   "metadata": {},
   "source": [
    "Will drop variables: Sex, DiffWalk, NoDocbcCost, AnyHealthCare, HvyAlcoholConsump, CholCheck\n",
    "\n",
    "Leaving HighChol and HighBP because still interested in these variables\n",
    "\n",
    "Will re-run decision tree feature importance to see if there was just skew and these variables will have more predictive power after other \"noisy\" variables are dropped."
   ]
  },
  {
   "cell_type": "code",
   "execution_count": 29,
   "id": "add0ff24",
   "metadata": {},
   "outputs": [],
   "source": [
    "df_hd_stroke_clean = df_hd_stroke.drop(columns=[\"Sex\", \"DiffWalk\", \"NoDocbcCost\", \"AnyHealthcare\", \"HvyAlcoholConsump\", \"CholCheck\"]).astype('category')"
   ]
  },
  {
   "cell_type": "code",
   "execution_count": 30,
   "id": "d9503fd7",
   "metadata": {},
   "outputs": [
    {
     "name": "stdout",
     "output_type": "stream",
     "text": [
      "HighBP          category\n",
      "HighChol        category\n",
      "BMI             category\n",
      "Smoker          category\n",
      "Diabetes        category\n",
      "PhysActivity    category\n",
      "Fruits          category\n",
      "Veggies         category\n",
      "GenHlth         category\n",
      "MentHlth        category\n",
      "PhysHlth        category\n",
      "Age             category\n",
      "Education       category\n",
      "Income          category\n",
      "HD+Stroke       category\n",
      "dtype: object\n"
     ]
    }
   ],
   "source": [
    "#df_hd_stroke csv will be fused HD+Stroke data\n",
    "df_hd_stroke_clean.to_csv('df_hd_stroke_clean.csv', index=False)\n",
    "\n",
    "# Load the data // dtype category specified to load all data as categories\n",
    "\n",
    "df_hd_stroke_clean = pd.read_csv('df_hd_stroke_clean.csv', dtype='category')\n",
    "df_hd_stroke_clean.index.name = 'case'\n",
    "\n",
    "#making sure all columns we want are present\n",
    "print(df_hd_stroke_clean.dtypes)"
   ]
  },
  {
   "cell_type": "code",
   "execution_count": 32,
   "id": "6e274d0e",
   "metadata": {},
   "outputs": [
    {
     "data": {
      "text/plain": [
       "DecisionTreeClassifier(random_state=42)"
      ]
     },
     "execution_count": 32,
     "metadata": {},
     "output_type": "execute_result"
    }
   ],
   "source": [
    "# Encode the categorical variables as numeric using LabelEncoder\n",
    "le3 = LabelEncoder()\n",
    "for col in df_hd_stroke_clean.columns:\n",
    "    if df_hd_stroke_clean[col].dtype == 'category':\n",
    "        df_hd_stroke_clean[col] = le3.fit_transform(df_hd_stroke_clean[col])\n",
    "\n",
    "# Define the predictor and target variables\n",
    "X3 = df_hd_stroke_clean.drop(['HD+Stroke'], axis=1)\n",
    "y3 = df_hd_stroke_clean['HD+Stroke']\n",
    "\n",
    "# Split the data into training and testing sets\n",
    "X_train3, X_test3, y_train3, y_test3 = train_test_split(X3, y3, test_size=0.2, random_state=42)\n",
    "\n",
    "# Create a decision tree model\n",
    "dt3 = DecisionTreeClassifier(random_state=42)\n",
    "\n",
    "# Fit the model to the training data\n",
    "dt3.fit(X_train3, y_train3)\n",
    "\n",
    "# Plot the decision tree\n",
    "#dont need to plot, not legible and very taxing on computer/ takes long time to run\n",
    "#plot_tree(dt, feature_names=X.columns, class_names=['0','1'], filled=True)"
   ]
  },
  {
   "cell_type": "code",
   "execution_count": 33,
   "id": "b0d5e7e7",
   "metadata": {},
   "outputs": [
    {
     "data": {
      "image/png": "[encoded data removed]",
      "text/plain": [
       "<Figure size 1440x720 with 1 Axes>"
      ]
     },
     "metadata": {
      "needs_background": "light"
     },
     "output_type": "display_data"
    }
   ],
   "source": [
    "# Feature Importance based on decision tree model\n",
    "\n",
    "import matplotlib.pyplot as plt\n",
    "\n",
    "plt.figure(figsize=(20,10))\n",
    "plt.barh(X_train3.columns, dt3.feature_importances_)\n",
    "plt.show()"
   ]
  },
  {
   "cell_type": "markdown",
   "id": "8a179138",
   "metadata": {},
   "source": [
    "Findings show HighChol and HighBP are consistent with previous findings, these variables have very low predicitve power. \n",
    "\n",
    "HighBP higher than HighChol but still low \n",
    "\n",
    "Smoker seems to have lost predictive power as well"
   ]
  },
  {
   "cell_type": "markdown",
   "id": "5d53629e",
   "metadata": {},
   "source": [
    "## Original Variables"
   ]
  },
  {
   "cell_type": "code",
   "execution_count": 34,
   "id": "a3f7f70b",
   "metadata": {},
   "outputs": [],
   "source": [
    "df = df.drop('HD+Stroke', axis=1)"
   ]
  },
  {
   "cell_type": "code",
   "execution_count": 35,
   "id": "3da2fdee",
   "metadata": {},
   "outputs": [
    {
     "name": "stdout",
     "output_type": "stream",
     "text": [
      "HeartDiseaseorAttack    category\n",
      "HighBP                  category\n",
      "HighChol                category\n",
      "CholCheck               category\n",
      "BMI                     category\n",
      "Smoker                  category\n",
      "Stroke                  category\n",
      "Diabetes                category\n",
      "PhysActivity            category\n",
      "Fruits                  category\n",
      "Veggies                 category\n",
      "HvyAlcoholConsump       category\n",
      "AnyHealthcare           category\n",
      "NoDocbcCost             category\n",
      "GenHlth                 category\n",
      "MentHlth                category\n",
      "PhysHlth                category\n",
      "DiffWalk                category\n",
      "Sex                     category\n",
      "Age                     category\n",
      "Education               category\n",
      "Income                  category\n",
      "dtype: object\n"
     ]
    }
   ],
   "source": [
    "df.to_csv('cleaned.csv', index=False)\n",
    "#cleaned csv will be all the original columns after binning\n",
    "\n",
    "# Load the data\n",
    "df_cleaned = pd.read_csv('cleaned.csv', dtype='category')\n",
    "df_cleaned.index.name = 'case'\n",
    "\n",
    "#making sure all variables wanted are present\n",
    "print(df_cleaned.dtypes)"
   ]
  },
  {
   "cell_type": "code",
   "execution_count": 36,
   "id": "554f060c",
   "metadata": {},
   "outputs": [
    {
     "data": {
      "text/plain": [
       "DecisionTreeClassifier(random_state=42)"
      ]
     },
     "execution_count": 36,
     "metadata": {},
     "output_type": "execute_result"
    }
   ],
   "source": [
    "\n",
    "from sklearn.tree import DecisionTreeClassifier\n",
    "from sklearn.preprocessing import LabelEncoder\n",
    "from sklearn.model_selection import train_test_split\n",
    "from sklearn.tree import plot_tree\n",
    "\n",
    "# Load the data\n",
    "#df_cleaned = pd.read_csv('your_file_path.csv')\n",
    "\n",
    "# Encode the categorical variables as numeric using LabelEncoder\n",
    "le = LabelEncoder()\n",
    "for col in df_cleaned.columns:\n",
    "    if df_cleaned[col].dtype == 'category':\n",
    "        df_cleaned[col] = le.fit_transform(df_cleaned[col])\n",
    "\n",
    "# Define the predictor and target variables\n",
    "X = df_cleaned.drop(['HeartDiseaseorAttack'], axis=1)\n",
    "y = df_cleaned['HeartDiseaseorAttack']\n",
    "\n",
    "# Split the data into training and testing sets\n",
    "X_train, X_test, y_train, y_test = train_test_split(X, y, test_size=0.2, random_state=42)\n",
    "\n",
    "# Create a decision tree model\n",
    "dt = DecisionTreeClassifier(random_state=42)\n",
    "\n",
    "# Fit the model to the training data\n",
    "dt.fit(X_train, y_train)\n",
    "\n",
    "# Plot the decision tree\n",
    "#dont need to plot, not legible and very taxing on computer/ takes long time to run\n",
    "#plot_tree(dt, feature_names=X.columns, class_names=['0','1'], filled=True)\n"
   ]
  },
  {
   "cell_type": "markdown",
   "id": "248b9d2b",
   "metadata": {},
   "source": [
    "### Decision Tree Feature Importance for Original Variables"
   ]
  },
  {
   "cell_type": "code",
   "execution_count": 37,
   "id": "1cdc597b",
   "metadata": {},
   "outputs": [
    {
     "data": {
      "image/png": "[encoded data removed]",
      "text/plain": [
       "<Figure size 1440x720 with 1 Axes>"
      ]
     },
     "metadata": {
      "needs_background": "light"
     },
     "output_type": "display_data"
    }
   ],
   "source": [
    "# Feature Importance based on decision tree model\n",
    "\n",
    "import matplotlib.pyplot as plt\n",
    "\n",
    "plt.figure(figsize=(20,10))\n",
    "plt.barh(X_train.columns, dt.feature_importances_)\n",
    "plt.show()"
   ]
  },
  {
   "cell_type": "markdown",
   "id": "72da11fd",
   "metadata": {},
   "source": [
    "## Dropping Non-Important Variables and Running Another Decision Tree"
   ]
  },
  {
   "cell_type": "markdown",
   "id": "8e1b0d28",
   "metadata": {},
   "source": [
    "***Similar:***\n",
    "\n",
    "Will drop variables: Sex, DiffWalk, NoDocbcCost, AnyHealthCare, HvyAlcoholConsump, CholCheck, **& Stroke**\n",
    "\n",
    "Leaving HighChol and HighBP because still interested in these variables\n",
    "\n",
    "Will re-run decision tree feature importance to see if there was just skew and these variables will have more predictive power after other \"noisy\" variables are dropped."
   ]
  },
  {
   "cell_type": "code",
   "execution_count": 44,
   "id": "5b45be8c",
   "metadata": {},
   "outputs": [],
   "source": [
    "df_clean2 = df_cleaned.drop(columns=[\"Stroke\", \"Sex\", \"DiffWalk\", \"NoDocbcCost\", \"AnyHealthcare\", \"HvyAlcoholConsump\", \"CholCheck\"]).astype('category')"
   ]
  },
  {
   "cell_type": "code",
   "execution_count": 45,
   "id": "b00a0112",
   "metadata": {},
   "outputs": [
    {
     "name": "stdout",
     "output_type": "stream",
     "text": [
      "HeartDiseaseorAttack    category\n",
      "HighBP                  category\n",
      "HighChol                category\n",
      "BMI                     category\n",
      "Smoker                  category\n",
      "Diabetes                category\n",
      "PhysActivity            category\n",
      "Fruits                  category\n",
      "Veggies                 category\n",
      "GenHlth                 category\n",
      "MentHlth                category\n",
      "PhysHlth                category\n",
      "Age                     category\n",
      "Education               category\n",
      "Income                  category\n",
      "dtype: object\n"
     ]
    }
   ],
   "source": [
    "df_clean2.to_csv('df_clean2.csv', index=False)\n",
    "\n",
    "# Load the data // dtype category specified to load all data as categories\n",
    "\n",
    "df_clean2 = pd.read_csv('df_clean2.csv', dtype='category')\n",
    "df_clean2.index.name = 'case'\n",
    "\n",
    "#making sure all columns we want are present\n",
    "print(df_clean2.dtypes)"
   ]
  },
  {
   "cell_type": "code",
   "execution_count": 46,
   "id": "d4369825",
   "metadata": {},
   "outputs": [
    {
     "data": {
      "text/plain": [
       "DecisionTreeClassifier(random_state=42)"
      ]
     },
     "execution_count": 46,
     "metadata": {},
     "output_type": "execute_result"
    }
   ],
   "source": [
    "# Encode the categorical variables as numeric using LabelEncoder\n",
    "le4 = LabelEncoder()\n",
    "for col in df_clean2.columns:\n",
    "    if df_clean2[col].dtype == 'category':\n",
    "        df_clean2[col] = le4.fit_transform(df_clean2[col])\n",
    "\n",
    "# Define the predictor and target variables\n",
    "X4 = df_clean2.drop(['HeartDiseaseorAttack'], axis=1)\n",
    "y4 = df_clean2['HeartDiseaseorAttack']\n",
    "\n",
    "# Split the data into training and testing sets\n",
    "X_train4, X_test4, y_train4, y_test4 = train_test_split(X4, y4, test_size=0.2, random_state=42)\n",
    "\n",
    "# Create a decision tree model\n",
    "dt4 = DecisionTreeClassifier(random_state=42)\n",
    "\n",
    "# Fit the model to the training data\n",
    "dt4.fit(X_train4, y_train4)\n",
    "\n",
    "# Plot the decision tree\n",
    "#dont need to plot, not legible and very taxing on computer/ takes long time to run\n",
    "#plot_tree(dt, feature_names=X.columns, class_names=['0','1'], filled=True)"
   ]
  },
  {
   "cell_type": "code",
   "execution_count": 47,
   "id": "1a1d15fb",
   "metadata": {},
   "outputs": [
    {
     "data": {
      "image/png": "[encoded data removed]",
      "text/plain": [
       "<Figure size 1440x720 with 1 Axes>"
      ]
     },
     "metadata": {
      "needs_background": "light"
     },
     "output_type": "display_data"
    }
   ],
   "source": [
    "# Feature Importance based on decision tree model\n",
    "\n",
    "import matplotlib.pyplot as plt\n",
    "\n",
    "plt.figure(figsize=(20,10))\n",
    "plt.barh(X_train4.columns, dt4.feature_importances_)\n",
    "plt.show()"
   ]
  },
  {
   "cell_type": "markdown",
   "id": "3bf469cd",
   "metadata": {},
   "source": [
    "***Similar findings to fused data:***\n",
    "\n",
    "HighBP higher than HighChol but still low \n",
    "\n",
    "Smoker seems to have lost predictive power as well"
   ]
  },
  {
   "cell_type": "markdown",
   "id": "9fbbbc40",
   "metadata": {},
   "source": [
    "## Large Take-Aways from Decision Trees"
   ]
  },
  {
   "cell_type": "markdown",
   "id": "d1bdeb11",
   "metadata": {},
   "source": [
    "Findings seem to be consistent with fused and non fused data ie original variables and Fused HD+Stroke"
   ]
  },
  {
   "cell_type": "markdown",
   "id": "8322f81e",
   "metadata": {},
   "source": [
    "Even after dropping \"non-important\" variables the findings seem consistent in that Income, Education, Age, GenHlth, and BMI seem to give us most predicitve power in relation to our response variables (HD+Stroke & HeartDiseaseorAttack)"
   ]
  }
 ],
 "metadata": {
  "kernelspec": {
   "display_name": "Python 3 (ipykernel)",
   "language": "python",
   "name": "python3"
  },
  "language_info": {
   "codemirror_mode": {
    "name": "ipython",
    "version": 3
   },
   "file_extension": ".py",
   "mimetype": "text/x-python",
   "name": "python",
   "nbconvert_exporter": "python",
   "pygments_lexer": "ipython3",
   "version": "3.9.12"
  }
 },
 "nbformat": 4,
 "nbformat_minor": 5
}
