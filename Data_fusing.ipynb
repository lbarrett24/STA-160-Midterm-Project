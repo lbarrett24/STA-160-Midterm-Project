{
 "cells": [
  {
   "cell_type": "code",
   "execution_count": null,
   "id": "e9220444-1ca4-4658-955a-2cd5b2f1c967",
   "metadata": {},
   "outputs": [],
   "source": [
    "#Fusing data together\n",
    "combo_dict = {(0, 0): 1, (0, 1): 2, (1, 0): 3, (1, 1): 4}\n",
    "\n",
    "#Apply the mapping to the two columns and create a new column \n",
    "df[\"fused_col\"] = df.apply(lambda x: combo_dict[(x[\"column_1\"], x[\"column_2\"])], axis=1)"
   ]
  }
 ],
 "metadata": {
  "kernelspec": {
   "display_name": "Python 3",
   "language": "python",
   "name": "python3"
  },
  "language_info": {
   "codemirror_mode": {
    "name": "ipython",
    "version": 3
   },
   "file_extension": ".py",
   "mimetype": "text/x-python",
   "name": "python",
   "nbconvert_exporter": "python",
   "pygments_lexer": "ipython3",
   "version": "3.8.8"
  }
 },
 "nbformat": 4,
 "nbformat_minor": 5
}
