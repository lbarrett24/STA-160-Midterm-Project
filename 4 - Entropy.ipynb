{
 "cells": [
  {
   "cell_type": "code",
   "execution_count": 1,
   "id": "5477efac",
   "metadata": {},
   "outputs": [],
   "source": [
    "import pandas as pd\n",
    "import numpy as np\n",
    "import seaborn as sns\n",
    "import matplotlib.pyplot as plt"
   ]
  },
  {
   "cell_type": "markdown",
   "id": "2ac1208d",
   "metadata": {},
   "source": [
    "# Entropy ------------------------"
   ]
  },
  {
   "cell_type": "code",
   "execution_count": 25,
   "id": "5891cc3d",
   "metadata": {},
   "outputs": [
    {
     "name": "stdout",
     "output_type": "stream",
     "text": [
      "Conditional entropy of Y given HighBP: 0.451\n",
      "Conditional entropy of Y given HighChol: 0.453\n",
      "Conditional entropy of Y given CholCheck: 0.164\n",
      "Conditional entropy of Y given BMI: -0.000\n",
      "Conditional entropy of Y given Smoker: 0.470\n",
      "Conditional entropy of Y given Stroke: 0.067\n",
      "Conditional entropy of Y given Diabetes: 0.195\n",
      "Conditional entropy of Y given PhysActivity: 0.475\n",
      "Conditional entropy of Y given Fruits: 0.520\n",
      "Conditional entropy of Y given Veggies: 0.433\n",
      "Conditional entropy of Y given HvyAlcoholConsump: 0.093\n",
      "Conditional entropy of Y given AnyHealthcare: 0.199\n",
      "Conditional entropy of Y given NoDocbcCost: 0.133\n",
      "Conditional entropy of Y given GenHlth: 0.041\n",
      "Conditional entropy of Y given MentHlth: -0.000\n",
      "Conditional entropy of Y given PhysHlth: -0.000\n",
      "Conditional entropy of Y given DiffWalk: 0.234\n",
      "Conditional entropy of Y given Sex: 0.471\n",
      "Conditional entropy of Y given Age: 0.011\n",
      "Conditional entropy of Y given Education: 0.001\n",
      "Conditional entropy of Y given Income: 0.017\n"
     ]
    }
   ],
   "source": [
    "# Assume a DataFrame named df with a response variable 'Y' and feature variables 'X1', 'X2', 'X3', etc.\n",
    "features = ['HighBP', 'HighChol', 'CholCheck', \"BMI\",\n",
    "       'Smoker', 'Stroke', 'Diabetes', 'PhysActivity', 'Fruits', 'Veggies',\n",
    "       'HvyAlcoholConsump', 'AnyHealthcare', 'NoDocbcCost', 'GenHlth','MentHlth', 'PhysHlth',\n",
    "       'DiffWalk', 'Sex', 'Age', 'Education',\n",
    "       'Income'] \n",
    "# Define a list of feature column names\n",
    "H_Y_given_X = {} # Create an empty dictionary to store the conditional entropy values\n",
    "\n",
    "# Loop over each feature column and calculate the conditional entropy of Y given X\n",
    "for f in features:\n",
    "    p_XY = pd.crosstab(df[f], df['HeartDiseaseorAttack'], normalize=True) # Calculate the joint probabilities of X and Y\n",
    "    p_Y = p_XY.sum(axis=0) # Calculate the marginal probabilities of Y\n",
    "    H_XY = -(p_XY * np.log2(p_XY)).sum().sum() # Calculate the entropy of X and Y\n",
    "    H_Y_given_X[f] = -((p_XY * np.log2(p_XY / p_Y)).sum(axis=1) * p_Y).sum() # Calculate the conditional entropy of Y given X\n",
    "    print('Conditional entropy of Y given {}: {:.3f}'.format(f, H_Y_given_X[f]))"
   ]
  },
  {
   "cell_type": "code",
   "execution_count": null,
   "id": "823c5ef4",
   "metadata": {},
   "outputs": [],
   "source": []
  }
 ],
 "metadata": {
  "kernelspec": {
   "display_name": "Python 3 (ipykernel)",
   "language": "python",
   "name": "python3"
  },
  "language_info": {
   "codemirror_mode": {
    "name": "ipython",
    "version": 3
   },
   "file_extension": ".py",
   "mimetype": "text/x-python",
   "name": "python",
   "nbconvert_exporter": "python",
   "pygments_lexer": "ipython3",
   "version": "3.9.12"
  }
 },
 "nbformat": 4,
 "nbformat_minor": 5
}
