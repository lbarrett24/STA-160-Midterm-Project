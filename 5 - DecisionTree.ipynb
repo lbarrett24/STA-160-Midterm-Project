{
 "cells": [
  {
   "cell_type": "markdown",
   "id": "bd96171d",
   "metadata": {},
   "source": [
    "# Creating HD+Stroke Fused Column"
   ]
  },
  {
   "cell_type": "code",
   "execution_count": 23,
   "id": "de23a9a9",
   "metadata": {},
   "outputs": [
    {
     "data": {
      "text/html": [
       "<div>\n",
       "<style scoped>\n",
       "    .dataframe tbody tr th:only-of-type {\n",
       "        vertical-align: middle;\n",
       "    }\n",
       "\n",
       "    .dataframe tbody tr th {\n",
       "        vertical-align: top;\n",
       "    }\n",
       "\n",
       "    .dataframe thead th {\n",
       "        text-align: right;\n",
       "    }\n",
       "</style>\n",
       "<table border=\"1\" class=\"dataframe\">\n",
       "  <thead>\n",
       "    <tr style=\"text-align: right;\">\n",
       "      <th></th>\n",
       "      <th>HeartDiseaseorAttack</th>\n",
       "      <th>HighBP</th>\n",
       "      <th>HighChol</th>\n",
       "      <th>CholCheck</th>\n",
       "      <th>BMI</th>\n",
       "      <th>Smoker</th>\n",
       "      <th>Stroke</th>\n",
       "      <th>Diabetes</th>\n",
       "      <th>PhysActivity</th>\n",
       "      <th>Fruits</th>\n",
       "      <th>Veggies</th>\n",
       "      <th>HvyAlcoholConsump</th>\n",
       "      <th>AnyHealthcare</th>\n",
       "      <th>NoDocbcCost</th>\n",
       "      <th>GenHlth</th>\n",
       "      <th>MentHlth</th>\n",
       "      <th>PhysHlth</th>\n",
       "      <th>DiffWalk</th>\n",
       "      <th>Sex</th>\n",
       "      <th>Age</th>\n",
       "      <th>Education</th>\n",
       "      <th>Income</th>\n",
       "      <th>HD+Stroke</th>\n",
       "    </tr>\n",
       "  </thead>\n",
       "  <tbody>\n",
       "    <tr>\n",
       "      <th>0</th>\n",
       "      <td>0.0</td>\n",
       "      <td>1.0</td>\n",
       "      <td>1.0</td>\n",
       "      <td>1.0</td>\n",
       "      <td>3</td>\n",
       "      <td>1.0</td>\n",
       "      <td>0.0</td>\n",
       "      <td>0.0</td>\n",
       "      <td>0.0</td>\n",
       "      <td>0.0</td>\n",
       "      <td>1.0</td>\n",
       "      <td>0.0</td>\n",
       "      <td>1.0</td>\n",
       "      <td>0.0</td>\n",
       "      <td>5.0</td>\n",
       "      <td>2</td>\n",
       "      <td>2</td>\n",
       "      <td>1.0</td>\n",
       "      <td>0.0</td>\n",
       "      <td>9.0</td>\n",
       "      <td>4.0</td>\n",
       "      <td>3.0</td>\n",
       "      <td>1</td>\n",
       "    </tr>\n",
       "    <tr>\n",
       "      <th>1</th>\n",
       "      <td>0.0</td>\n",
       "      <td>0.0</td>\n",
       "      <td>0.0</td>\n",
       "      <td>0.0</td>\n",
       "      <td>2</td>\n",
       "      <td>1.0</td>\n",
       "      <td>0.0</td>\n",
       "      <td>0.0</td>\n",
       "      <td>1.0</td>\n",
       "      <td>0.0</td>\n",
       "      <td>0.0</td>\n",
       "      <td>0.0</td>\n",
       "      <td>0.0</td>\n",
       "      <td>1.0</td>\n",
       "      <td>3.0</td>\n",
       "      <td>1</td>\n",
       "      <td>1</td>\n",
       "      <td>0.0</td>\n",
       "      <td>0.0</td>\n",
       "      <td>7.0</td>\n",
       "      <td>6.0</td>\n",
       "      <td>1.0</td>\n",
       "      <td>1</td>\n",
       "    </tr>\n",
       "    <tr>\n",
       "      <th>2</th>\n",
       "      <td>0.0</td>\n",
       "      <td>1.0</td>\n",
       "      <td>1.0</td>\n",
       "      <td>1.0</td>\n",
       "      <td>2</td>\n",
       "      <td>0.0</td>\n",
       "      <td>0.0</td>\n",
       "      <td>0.0</td>\n",
       "      <td>0.0</td>\n",
       "      <td>1.0</td>\n",
       "      <td>0.0</td>\n",
       "      <td>0.0</td>\n",
       "      <td>1.0</td>\n",
       "      <td>1.0</td>\n",
       "      <td>5.0</td>\n",
       "      <td>3</td>\n",
       "      <td>3</td>\n",
       "      <td>1.0</td>\n",
       "      <td>0.0</td>\n",
       "      <td>9.0</td>\n",
       "      <td>4.0</td>\n",
       "      <td>8.0</td>\n",
       "      <td>1</td>\n",
       "    </tr>\n",
       "    <tr>\n",
       "      <th>3</th>\n",
       "      <td>0.0</td>\n",
       "      <td>1.0</td>\n",
       "      <td>0.0</td>\n",
       "      <td>1.0</td>\n",
       "      <td>2</td>\n",
       "      <td>0.0</td>\n",
       "      <td>0.0</td>\n",
       "      <td>0.0</td>\n",
       "      <td>1.0</td>\n",
       "      <td>1.0</td>\n",
       "      <td>1.0</td>\n",
       "      <td>0.0</td>\n",
       "      <td>1.0</td>\n",
       "      <td>0.0</td>\n",
       "      <td>2.0</td>\n",
       "      <td>1</td>\n",
       "      <td>1</td>\n",
       "      <td>0.0</td>\n",
       "      <td>0.0</td>\n",
       "      <td>11.0</td>\n",
       "      <td>3.0</td>\n",
       "      <td>6.0</td>\n",
       "      <td>1</td>\n",
       "    </tr>\n",
       "    <tr>\n",
       "      <th>4</th>\n",
       "      <td>0.0</td>\n",
       "      <td>1.0</td>\n",
       "      <td>1.0</td>\n",
       "      <td>1.0</td>\n",
       "      <td>1</td>\n",
       "      <td>0.0</td>\n",
       "      <td>0.0</td>\n",
       "      <td>0.0</td>\n",
       "      <td>1.0</td>\n",
       "      <td>1.0</td>\n",
       "      <td>1.0</td>\n",
       "      <td>0.0</td>\n",
       "      <td>1.0</td>\n",
       "      <td>0.0</td>\n",
       "      <td>2.0</td>\n",
       "      <td>1</td>\n",
       "      <td>1</td>\n",
       "      <td>0.0</td>\n",
       "      <td>0.0</td>\n",
       "      <td>11.0</td>\n",
       "      <td>5.0</td>\n",
       "      <td>4.0</td>\n",
       "      <td>1</td>\n",
       "    </tr>\n",
       "  </tbody>\n",
       "</table>\n",
       "</div>"
      ],
      "text/plain": [
       "  HeartDiseaseorAttack HighBP HighChol CholCheck BMI Smoker Stroke Diabetes  \\\n",
       "0                  0.0    1.0      1.0       1.0   3    1.0    0.0      0.0   \n",
       "1                  0.0    0.0      0.0       0.0   2    1.0    0.0      0.0   \n",
       "2                  0.0    1.0      1.0       1.0   2    0.0    0.0      0.0   \n",
       "3                  0.0    1.0      0.0       1.0   2    0.0    0.0      0.0   \n",
       "4                  0.0    1.0      1.0       1.0   1    0.0    0.0      0.0   \n",
       "\n",
       "  PhysActivity Fruits Veggies HvyAlcoholConsump AnyHealthcare NoDocbcCost  \\\n",
       "0          0.0    0.0     1.0               0.0           1.0         0.0   \n",
       "1          1.0    0.0     0.0               0.0           0.0         1.0   \n",
       "2          0.0    1.0     0.0               0.0           1.0         1.0   \n",
       "3          1.0    1.0     1.0               0.0           1.0         0.0   \n",
       "4          1.0    1.0     1.0               0.0           1.0         0.0   \n",
       "\n",
       "  GenHlth MentHlth PhysHlth DiffWalk  Sex   Age Education Income HD+Stroke  \n",
       "0     5.0        2        2      1.0  0.0   9.0       4.0    3.0         1  \n",
       "1     3.0        1        1      0.0  0.0   7.0       6.0    1.0         1  \n",
       "2     5.0        3        3      1.0  0.0   9.0       4.0    8.0         1  \n",
       "3     2.0        1        1      0.0  0.0  11.0       3.0    6.0         1  \n",
       "4     2.0        1        1      0.0  0.0  11.0       5.0    4.0         1  "
      ]
     },
     "execution_count": 23,
     "metadata": {},
     "output_type": "execute_result"
    }
   ],
   "source": [
    "combo_dict = {(0, 0): 1, (0, 1): 2, (1, 0): 3, (1, 1): 4}\n",
    "\n",
    "#Apply the mapping to the two columns and create a new column \n",
    "df[\"HD+Stroke\"] = df.apply(lambda x: combo_dict[(x[\"HeartDiseaseorAttack\"], x[\"Stroke\"])], axis=1)\n",
    "df['HD+Stroke'] = df['HD+Stroke'].astype('category')\n",
    "df.head()"
   ]
  },
  {
   "cell_type": "code",
   "execution_count": 24,
   "id": "b21d58da",
   "metadata": {},
   "outputs": [],
   "source": [
    "df_hd_stroke = df.drop(columns=[\"HeartDiseaseorAttack\", \"Stroke\"]).astype('category')\n",
    "df_hd_stroke['HD+Stroke'] = df['HD+Stroke']\n",
    "\n",
    "#df = df.drop('HD+Stroke', axis=1)\n",
    "#print(df.dtypes)"
   ]
  },
  {
   "cell_type": "markdown",
   "id": "59002ccf",
   "metadata": {},
   "source": [
    "# Decision Tree"
   ]
  },
  {
   "cell_type": "markdown",
   "id": "81b18029",
   "metadata": {},
   "source": [
    "## Decision Tree for Fused HD+Stroke Data"
   ]
  },
  {
   "cell_type": "code",
   "execution_count": 25,
   "id": "9ed55d68",
   "metadata": {},
   "outputs": [
    {
     "name": "stdout",
     "output_type": "stream",
     "text": [
      "HighBP               category\n",
      "HighChol             category\n",
      "CholCheck            category\n",
      "BMI                  category\n",
      "Smoker               category\n",
      "Diabetes             category\n",
      "PhysActivity         category\n",
      "Fruits               category\n",
      "Veggies              category\n",
      "HvyAlcoholConsump    category\n",
      "AnyHealthcare        category\n",
      "NoDocbcCost          category\n",
      "GenHlth              category\n",
      "MentHlth             category\n",
      "PhysHlth             category\n",
      "DiffWalk             category\n",
      "Sex                  category\n",
      "Age                  category\n",
      "Education            category\n",
      "Income               category\n",
      "HD+Stroke            category\n",
      "dtype: object\n"
     ]
    }
   ],
   "source": [
    "#df_hd_stroke csv will be fused HD+Stroke data\n",
    "df_hd_stroke.to_csv('df_hd_stroke.csv', index=False)\n",
    "\n",
    "# Load the data // dtype category specified to load all data as categories\n",
    "\n",
    "df_hd_stroke = pd.read_csv('df_hd_stroke.csv', dtype='category')\n",
    "df_hd_stroke.index.name = 'case'\n",
    "\n",
    "#making sure all columns we want are present\n",
    "print(df_hd_stroke.dtypes)"
   ]
  },
  {
   "cell_type": "code",
   "execution_count": 26,
   "id": "92e7f1bb",
   "metadata": {},
   "outputs": [
    {
     "data": {
      "text/plain": [
       "DecisionTreeClassifier(random_state=42)"
      ]
     },
     "execution_count": 26,
     "metadata": {},
     "output_type": "execute_result"
    }
   ],
   "source": [
    "\n",
    "from sklearn.tree import DecisionTreeClassifier\n",
    "from sklearn.preprocessing import LabelEncoder\n",
    "from sklearn.model_selection import train_test_split\n",
    "from sklearn.tree import plot_tree\n",
    "\n",
    "# Load the data // already done above\n",
    "#df_hd_stroke = pd.read_csv('your_file_path.csv')\n",
    "\n",
    "# Encode the categorical variables as numeric using LabelEncoder\n",
    "le2 = LabelEncoder()\n",
    "for col in df_hd_stroke.columns:\n",
    "    if df_hd_stroke[col].dtype == 'category':\n",
    "        df_hd_stroke[col] = le2.fit_transform(df_hd_stroke[col])\n",
    "\n",
    "# Define the predictor and target variables\n",
    "X2 = df_hd_stroke.drop(['HD+Stroke'], axis=1)\n",
    "y2 = df_hd_stroke['HD+Stroke']\n",
    "\n",
    "# Split the data into training and testing sets\n",
    "X_train2, X_test2, y_train2, y_test2 = train_test_split(X2, y2, test_size=0.2, random_state=42)\n",
    "\n",
    "# Create a decision tree model\n",
    "dt2 = DecisionTreeClassifier(random_state=42)\n",
    "\n",
    "# Fit the model to the training data\n",
    "dt2.fit(X_train2, y_train2)\n",
    "\n",
    "# Plot the decision tree\n",
    "#dont need to plot, not legible and very taxing on computer/ takes long time to run\n",
    "#plot_tree(dt, feature_names=X.columns, class_names=['0','1'], filled=True)"
   ]
  },
  {
   "cell_type": "markdown",
   "id": "bcee29f1",
   "metadata": {},
   "source": [
    "### Decision Tree Feature Importance for Fused HD+Stroke"
   ]
  },
  {
   "cell_type": "code",
   "execution_count": 27,
   "id": "d1f82d41",
   "metadata": {},
   "outputs": [
    {
     "data": {
      "image/png": "[encoded data removed]",
      "text/plain": [
       "<Figure size 1440x720 with 1 Axes>"
      ]
     },
     "metadata": {
      "needs_background": "light"
     },
     "output_type": "display_data"
    }
   ],
   "source": [
    "# Feature Importance based on decision tree model\n",
    "\n",
    "import matplotlib.pyplot as plt\n",
    "\n",
    "plt.figure(figsize=(20,10))\n",
    "plt.barh(X_train2.columns, dt2.feature_importances_)\n",
    "plt.show()"
   ]
  },
  {
   "cell_type": "markdown",
   "id": "732d081a",
   "metadata": {},
   "source": [
    "## Original Variables"
   ]
  },
  {
   "cell_type": "code",
   "execution_count": 28,
   "id": "31571ef8",
   "metadata": {},
   "outputs": [],
   "source": [
    "df = df.drop('HD+Stroke', axis=1)"
   ]
  },
  {
   "cell_type": "code",
   "execution_count": 29,
   "id": "f7f192ce",
   "metadata": {},
   "outputs": [
    {
     "name": "stdout",
     "output_type": "stream",
     "text": [
      "HeartDiseaseorAttack    category\n",
      "HighBP                  category\n",
      "HighChol                category\n",
      "CholCheck               category\n",
      "BMI                     category\n",
      "Smoker                  category\n",
      "Stroke                  category\n",
      "Diabetes                category\n",
      "PhysActivity            category\n",
      "Fruits                  category\n",
      "Veggies                 category\n",
      "HvyAlcoholConsump       category\n",
      "AnyHealthcare           category\n",
      "NoDocbcCost             category\n",
      "GenHlth                 category\n",
      "MentHlth                category\n",
      "PhysHlth                category\n",
      "DiffWalk                category\n",
      "Sex                     category\n",
      "Age                     category\n",
      "Education               category\n",
      "Income                  category\n",
      "dtype: object\n"
     ]
    }
   ],
   "source": [
    "df.to_csv('cleaned.csv', index=False)\n",
    "#cleaned csv will be all the original columns after binning\n",
    "\n",
    "# Load the data\n",
    "df_cleaned = pd.read_csv('cleaned.csv', dtype='category')\n",
    "df_cleaned.index.name = 'case'\n",
    "\n",
    "#making sure all variables wanted are present\n",
    "print(df_cleaned.dtypes)"
   ]
  },
  {
   "cell_type": "code",
   "execution_count": 30,
   "id": "5388e7c9",
   "metadata": {},
   "outputs": [
    {
     "data": {
      "text/plain": [
       "DecisionTreeClassifier(random_state=42)"
      ]
     },
     "execution_count": 30,
     "metadata": {},
     "output_type": "execute_result"
    }
   ],
   "source": [
    "\n",
    "from sklearn.tree import DecisionTreeClassifier\n",
    "from sklearn.preprocessing import LabelEncoder\n",
    "from sklearn.model_selection import train_test_split\n",
    "from sklearn.tree import plot_tree\n",
    "\n",
    "# Load the data\n",
    "#df_cleaned = pd.read_csv('your_file_path.csv')\n",
    "\n",
    "# Encode the categorical variables as numeric using LabelEncoder\n",
    "le = LabelEncoder()\n",
    "for col in df_cleaned.columns:\n",
    "    if df_cleaned[col].dtype == 'category':\n",
    "        df_cleaned[col] = le.fit_transform(df_cleaned[col])\n",
    "\n",
    "# Define the predictor and target variables\n",
    "X = df_cleaned.drop(['HeartDiseaseorAttack'], axis=1)\n",
    "y = df_cleaned['HeartDiseaseorAttack']\n",
    "\n",
    "# Split the data into training and testing sets\n",
    "X_train, X_test, y_train, y_test = train_test_split(X, y, test_size=0.2, random_state=42)\n",
    "\n",
    "# Create a decision tree model\n",
    "dt = DecisionTreeClassifier(random_state=42)\n",
    "\n",
    "# Fit the model to the training data\n",
    "dt.fit(X_train, y_train)\n",
    "\n",
    "# Plot the decision tree\n",
    "#dont need to plot, not legible and very taxing on computer/ takes long time to run\n",
    "#plot_tree(dt, feature_names=X.columns, class_names=['0','1'], filled=True)\n"
   ]
  },
  {
   "cell_type": "markdown",
   "id": "dbb71df2",
   "metadata": {},
   "source": [
    "### Decision Tree Feature Importance for Original Variables"
   ]
  },
  {
   "cell_type": "code",
   "execution_count": 31,
   "id": "56788132",
   "metadata": {},
   "outputs": [
    {
     "data": {
      "image/png": "[encoded data removed]",
      "text/plain": [
       "<Figure size 1440x720 with 1 Axes>"
      ]
     },
     "metadata": {
      "needs_background": "light"
     },
     "output_type": "display_data"
    }
   ],
   "source": [
    "# Feature Importance based on decision tree model\n",
    "\n",
    "import matplotlib.pyplot as plt\n",
    "\n",
    "plt.figure(figsize=(20,10))\n",
    "plt.barh(X_train.columns, dt.feature_importances_)\n",
    "plt.show()"
   ]
  }
 ],
 "metadata": {
  "kernelspec": {
   "display_name": "Python 3 (ipykernel)",
   "language": "python",
   "name": "python3"
  },
  "language_info": {
   "codemirror_mode": {
    "name": "ipython",
    "version": 3
   },
   "file_extension": ".py",
   "mimetype": "text/x-python",
   "name": "python",
   "nbconvert_exporter": "python",
   "pygments_lexer": "ipython3",
   "version": "3.9.12"
  }
 },
 "nbformat": 4,
 "nbformat_minor": 5
}
