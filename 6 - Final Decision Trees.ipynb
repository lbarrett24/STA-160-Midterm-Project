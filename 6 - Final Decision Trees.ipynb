{
 "cells": [
  {
   "cell_type": "markdown",
   "id": "2916dc2d",
   "metadata": {},
   "source": [
    "# Fusing Variables PhysHlth and MentHlth"
   ]
  },
  {
   "cell_type": "markdown",
   "id": "a711c645",
   "metadata": {},
   "source": [
    "This is of interest to me because it seems these two variables had extremely low entropy values at 0 which is what we wanted to see but when I ran the decision trees these variables werent very predictive so I will fuse the two variabls and run another decision tree to see if this changes anything "
   ]
  },
  {
   "cell_type": "code",
   "execution_count": 41,
   "id": "d3c14abc",
   "metadata": {},
   "outputs": [],
   "source": [
    "# Convert \"PhysHlth\" and \"MentHlth\" categories to integers\n",
    "df[\"PhysHlth\"] = df[\"PhysHlth\"].astype(int)\n",
    "df[\"MentHlth\"] = df[\"MentHlth\"].astype(int)\n",
    "\n",
    "# Fuse the two columns into a new categorical column \"HlthComb\"\n",
    "df[\"HlthComb\"] = df[\"PhysHlth\"].astype(str) + \"_\" + df[\"MentHlth\"].astype(str)\n",
    "cat_type = pd.api.types.CategoricalDtype(categories=[\"1_1\", \"1_2\", \"1_3\", \"2_1\", \"2_2\", \"2_3\", \"3_1\", \"3_2\", \"3_3\"], ordered=True)\n",
    "df[\"HlthComb\"] = df[\"HlthComb\"].astype(cat_type)\n",
    "\n",
    "# Drop the original columns \"PhysHtlh\" and \"MentHlth\"\n",
    "#df = df.drop([\"PhysHlth\", \"MentHlth\"], axis=1)"
   ]
  },
  {
   "cell_type": "code",
   "execution_count": 42,
   "id": "ba4c192c",
   "metadata": {},
   "outputs": [
    {
     "data": {
      "text/html": [
       "<div>\n",
       "<style scoped>\n",
       "    .dataframe tbody tr th:only-of-type {\n",
       "        vertical-align: middle;\n",
       "    }\n",
       "\n",
       "    .dataframe tbody tr th {\n",
       "        vertical-align: top;\n",
       "    }\n",
       "\n",
       "    .dataframe thead th {\n",
       "        text-align: right;\n",
       "    }\n",
       "</style>\n",
       "<table border=\"1\" class=\"dataframe\">\n",
       "  <thead>\n",
       "    <tr style=\"text-align: right;\">\n",
       "      <th></th>\n",
       "      <th>HeartDiseaseorAttack</th>\n",
       "      <th>HighBP</th>\n",
       "      <th>HighChol</th>\n",
       "      <th>CholCheck</th>\n",
       "      <th>BMI</th>\n",
       "      <th>Smoker</th>\n",
       "      <th>Stroke</th>\n",
       "      <th>Diabetes</th>\n",
       "      <th>PhysActivity</th>\n",
       "      <th>Fruits</th>\n",
       "      <th>Veggies</th>\n",
       "      <th>HvyAlcoholConsump</th>\n",
       "      <th>AnyHealthcare</th>\n",
       "      <th>NoDocbcCost</th>\n",
       "      <th>GenHlth</th>\n",
       "      <th>MentHlth</th>\n",
       "      <th>PhysHlth</th>\n",
       "      <th>DiffWalk</th>\n",
       "      <th>Sex</th>\n",
       "      <th>Age</th>\n",
       "      <th>Education</th>\n",
       "      <th>Income</th>\n",
       "      <th>HlthComb</th>\n",
       "    </tr>\n",
       "  </thead>\n",
       "  <tbody>\n",
       "    <tr>\n",
       "      <th>0</th>\n",
       "      <td>0.0</td>\n",
       "      <td>1.0</td>\n",
       "      <td>1.0</td>\n",
       "      <td>1.0</td>\n",
       "      <td>3</td>\n",
       "      <td>1.0</td>\n",
       "      <td>0.0</td>\n",
       "      <td>0.0</td>\n",
       "      <td>0.0</td>\n",
       "      <td>0.0</td>\n",
       "      <td>1.0</td>\n",
       "      <td>0.0</td>\n",
       "      <td>1.0</td>\n",
       "      <td>0.0</td>\n",
       "      <td>5.0</td>\n",
       "      <td>2</td>\n",
       "      <td>2</td>\n",
       "      <td>1.0</td>\n",
       "      <td>0.0</td>\n",
       "      <td>9.0</td>\n",
       "      <td>4.0</td>\n",
       "      <td>3.0</td>\n",
       "      <td>2_2</td>\n",
       "    </tr>\n",
       "    <tr>\n",
       "      <th>1</th>\n",
       "      <td>0.0</td>\n",
       "      <td>0.0</td>\n",
       "      <td>0.0</td>\n",
       "      <td>0.0</td>\n",
       "      <td>2</td>\n",
       "      <td>1.0</td>\n",
       "      <td>0.0</td>\n",
       "      <td>0.0</td>\n",
       "      <td>1.0</td>\n",
       "      <td>0.0</td>\n",
       "      <td>0.0</td>\n",
       "      <td>0.0</td>\n",
       "      <td>0.0</td>\n",
       "      <td>1.0</td>\n",
       "      <td>3.0</td>\n",
       "      <td>1</td>\n",
       "      <td>1</td>\n",
       "      <td>0.0</td>\n",
       "      <td>0.0</td>\n",
       "      <td>7.0</td>\n",
       "      <td>6.0</td>\n",
       "      <td>1.0</td>\n",
       "      <td>1_1</td>\n",
       "    </tr>\n",
       "    <tr>\n",
       "      <th>2</th>\n",
       "      <td>0.0</td>\n",
       "      <td>1.0</td>\n",
       "      <td>1.0</td>\n",
       "      <td>1.0</td>\n",
       "      <td>2</td>\n",
       "      <td>0.0</td>\n",
       "      <td>0.0</td>\n",
       "      <td>0.0</td>\n",
       "      <td>0.0</td>\n",
       "      <td>1.0</td>\n",
       "      <td>0.0</td>\n",
       "      <td>0.0</td>\n",
       "      <td>1.0</td>\n",
       "      <td>1.0</td>\n",
       "      <td>5.0</td>\n",
       "      <td>3</td>\n",
       "      <td>3</td>\n",
       "      <td>1.0</td>\n",
       "      <td>0.0</td>\n",
       "      <td>9.0</td>\n",
       "      <td>4.0</td>\n",
       "      <td>8.0</td>\n",
       "      <td>3_3</td>\n",
       "    </tr>\n",
       "    <tr>\n",
       "      <th>3</th>\n",
       "      <td>0.0</td>\n",
       "      <td>1.0</td>\n",
       "      <td>0.0</td>\n",
       "      <td>1.0</td>\n",
       "      <td>2</td>\n",
       "      <td>0.0</td>\n",
       "      <td>0.0</td>\n",
       "      <td>0.0</td>\n",
       "      <td>1.0</td>\n",
       "      <td>1.0</td>\n",
       "      <td>1.0</td>\n",
       "      <td>0.0</td>\n",
       "      <td>1.0</td>\n",
       "      <td>0.0</td>\n",
       "      <td>2.0</td>\n",
       "      <td>1</td>\n",
       "      <td>1</td>\n",
       "      <td>0.0</td>\n",
       "      <td>0.0</td>\n",
       "      <td>11.0</td>\n",
       "      <td>3.0</td>\n",
       "      <td>6.0</td>\n",
       "      <td>1_1</td>\n",
       "    </tr>\n",
       "    <tr>\n",
       "      <th>4</th>\n",
       "      <td>0.0</td>\n",
       "      <td>1.0</td>\n",
       "      <td>1.0</td>\n",
       "      <td>1.0</td>\n",
       "      <td>1</td>\n",
       "      <td>0.0</td>\n",
       "      <td>0.0</td>\n",
       "      <td>0.0</td>\n",
       "      <td>1.0</td>\n",
       "      <td>1.0</td>\n",
       "      <td>1.0</td>\n",
       "      <td>0.0</td>\n",
       "      <td>1.0</td>\n",
       "      <td>0.0</td>\n",
       "      <td>2.0</td>\n",
       "      <td>1</td>\n",
       "      <td>1</td>\n",
       "      <td>0.0</td>\n",
       "      <td>0.0</td>\n",
       "      <td>11.0</td>\n",
       "      <td>5.0</td>\n",
       "      <td>4.0</td>\n",
       "      <td>1_1</td>\n",
       "    </tr>\n",
       "  </tbody>\n",
       "</table>\n",
       "</div>"
      ],
      "text/plain": [
       "  HeartDiseaseorAttack HighBP HighChol CholCheck BMI Smoker Stroke Diabetes  \\\n",
       "0                  0.0    1.0      1.0       1.0   3    1.0    0.0      0.0   \n",
       "1                  0.0    0.0      0.0       0.0   2    1.0    0.0      0.0   \n",
       "2                  0.0    1.0      1.0       1.0   2    0.0    0.0      0.0   \n",
       "3                  0.0    1.0      0.0       1.0   2    0.0    0.0      0.0   \n",
       "4                  0.0    1.0      1.0       1.0   1    0.0    0.0      0.0   \n",
       "\n",
       "  PhysActivity Fruits Veggies HvyAlcoholConsump AnyHealthcare NoDocbcCost  \\\n",
       "0          0.0    0.0     1.0               0.0           1.0         0.0   \n",
       "1          1.0    0.0     0.0               0.0           0.0         1.0   \n",
       "2          0.0    1.0     0.0               0.0           1.0         1.0   \n",
       "3          1.0    1.0     1.0               0.0           1.0         0.0   \n",
       "4          1.0    1.0     1.0               0.0           1.0         0.0   \n",
       "\n",
       "  GenHlth  MentHlth  PhysHlth DiffWalk  Sex   Age Education Income HlthComb  \n",
       "0     5.0         2         2      1.0  0.0   9.0       4.0    3.0      2_2  \n",
       "1     3.0         1         1      0.0  0.0   7.0       6.0    1.0      1_1  \n",
       "2     5.0         3         3      1.0  0.0   9.0       4.0    8.0      3_3  \n",
       "3     2.0         1         1      0.0  0.0  11.0       3.0    6.0      1_1  \n",
       "4     2.0         1         1      0.0  0.0  11.0       5.0    4.0      1_1  "
      ]
     },
     "execution_count": 42,
     "metadata": {},
     "output_type": "execute_result"
    }
   ],
   "source": [
    "df.head()"
   ]
  },
  {
   "cell_type": "code",
   "execution_count": 43,
   "id": "09f860f0",
   "metadata": {},
   "outputs": [
    {
     "name": "stdout",
     "output_type": "stream",
     "text": [
      "HeartDiseaseorAttack    category\n",
      "HighBP                  category\n",
      "HighChol                category\n",
      "CholCheck               category\n",
      "BMI                     category\n",
      "Smoker                  category\n",
      "Stroke                  category\n",
      "Diabetes                category\n",
      "PhysActivity            category\n",
      "Fruits                  category\n",
      "Veggies                 category\n",
      "HvyAlcoholConsump       category\n",
      "AnyHealthcare           category\n",
      "NoDocbcCost             category\n",
      "GenHlth                 category\n",
      "DiffWalk                category\n",
      "Sex                     category\n",
      "Age                     category\n",
      "Education               category\n",
      "Income                  category\n",
      "HlthComb                category\n",
      "dtype: object\n"
     ]
    }
   ],
   "source": [
    "df_HlthComb = df.drop([\"PhysHlth\", \"MentHlth\"], axis=1)\n",
    "print(df_HlthComb.dtypes)"
   ]
  },
  {
   "cell_type": "code",
   "execution_count": 44,
   "id": "0f527b9a",
   "metadata": {},
   "outputs": [
    {
     "data": {
      "text/html": [
       "<div>\n",
       "<style scoped>\n",
       "    .dataframe tbody tr th:only-of-type {\n",
       "        vertical-align: middle;\n",
       "    }\n",
       "\n",
       "    .dataframe tbody tr th {\n",
       "        vertical-align: top;\n",
       "    }\n",
       "\n",
       "    .dataframe thead th {\n",
       "        text-align: right;\n",
       "    }\n",
       "</style>\n",
       "<table border=\"1\" class=\"dataframe\">\n",
       "  <thead>\n",
       "    <tr style=\"text-align: right;\">\n",
       "      <th></th>\n",
       "      <th>HeartDiseaseorAttack</th>\n",
       "      <th>HighBP</th>\n",
       "      <th>HighChol</th>\n",
       "      <th>CholCheck</th>\n",
       "      <th>BMI</th>\n",
       "      <th>Smoker</th>\n",
       "      <th>Stroke</th>\n",
       "      <th>Diabetes</th>\n",
       "      <th>PhysActivity</th>\n",
       "      <th>Fruits</th>\n",
       "      <th>Veggies</th>\n",
       "      <th>HvyAlcoholConsump</th>\n",
       "      <th>AnyHealthcare</th>\n",
       "      <th>NoDocbcCost</th>\n",
       "      <th>GenHlth</th>\n",
       "      <th>DiffWalk</th>\n",
       "      <th>Sex</th>\n",
       "      <th>Age</th>\n",
       "      <th>Education</th>\n",
       "      <th>Income</th>\n",
       "      <th>HlthComb</th>\n",
       "    </tr>\n",
       "  </thead>\n",
       "  <tbody>\n",
       "    <tr>\n",
       "      <th>0</th>\n",
       "      <td>0.0</td>\n",
       "      <td>1.0</td>\n",
       "      <td>1.0</td>\n",
       "      <td>1.0</td>\n",
       "      <td>3</td>\n",
       "      <td>1.0</td>\n",
       "      <td>0.0</td>\n",
       "      <td>0.0</td>\n",
       "      <td>0.0</td>\n",
       "      <td>0.0</td>\n",
       "      <td>1.0</td>\n",
       "      <td>0.0</td>\n",
       "      <td>1.0</td>\n",
       "      <td>0.0</td>\n",
       "      <td>5.0</td>\n",
       "      <td>1.0</td>\n",
       "      <td>0.0</td>\n",
       "      <td>9.0</td>\n",
       "      <td>4.0</td>\n",
       "      <td>3.0</td>\n",
       "      <td>2_2</td>\n",
       "    </tr>\n",
       "    <tr>\n",
       "      <th>1</th>\n",
       "      <td>0.0</td>\n",
       "      <td>0.0</td>\n",
       "      <td>0.0</td>\n",
       "      <td>0.0</td>\n",
       "      <td>2</td>\n",
       "      <td>1.0</td>\n",
       "      <td>0.0</td>\n",
       "      <td>0.0</td>\n",
       "      <td>1.0</td>\n",
       "      <td>0.0</td>\n",
       "      <td>0.0</td>\n",
       "      <td>0.0</td>\n",
       "      <td>0.0</td>\n",
       "      <td>1.0</td>\n",
       "      <td>3.0</td>\n",
       "      <td>0.0</td>\n",
       "      <td>0.0</td>\n",
       "      <td>7.0</td>\n",
       "      <td>6.0</td>\n",
       "      <td>1.0</td>\n",
       "      <td>1_1</td>\n",
       "    </tr>\n",
       "    <tr>\n",
       "      <th>2</th>\n",
       "      <td>0.0</td>\n",
       "      <td>1.0</td>\n",
       "      <td>1.0</td>\n",
       "      <td>1.0</td>\n",
       "      <td>2</td>\n",
       "      <td>0.0</td>\n",
       "      <td>0.0</td>\n",
       "      <td>0.0</td>\n",
       "      <td>0.0</td>\n",
       "      <td>1.0</td>\n",
       "      <td>0.0</td>\n",
       "      <td>0.0</td>\n",
       "      <td>1.0</td>\n",
       "      <td>1.0</td>\n",
       "      <td>5.0</td>\n",
       "      <td>1.0</td>\n",
       "      <td>0.0</td>\n",
       "      <td>9.0</td>\n",
       "      <td>4.0</td>\n",
       "      <td>8.0</td>\n",
       "      <td>3_3</td>\n",
       "    </tr>\n",
       "    <tr>\n",
       "      <th>3</th>\n",
       "      <td>0.0</td>\n",
       "      <td>1.0</td>\n",
       "      <td>0.0</td>\n",
       "      <td>1.0</td>\n",
       "      <td>2</td>\n",
       "      <td>0.0</td>\n",
       "      <td>0.0</td>\n",
       "      <td>0.0</td>\n",
       "      <td>1.0</td>\n",
       "      <td>1.0</td>\n",
       "      <td>1.0</td>\n",
       "      <td>0.0</td>\n",
       "      <td>1.0</td>\n",
       "      <td>0.0</td>\n",
       "      <td>2.0</td>\n",
       "      <td>0.0</td>\n",
       "      <td>0.0</td>\n",
       "      <td>11.0</td>\n",
       "      <td>3.0</td>\n",
       "      <td>6.0</td>\n",
       "      <td>1_1</td>\n",
       "    </tr>\n",
       "    <tr>\n",
       "      <th>4</th>\n",
       "      <td>0.0</td>\n",
       "      <td>1.0</td>\n",
       "      <td>1.0</td>\n",
       "      <td>1.0</td>\n",
       "      <td>1</td>\n",
       "      <td>0.0</td>\n",
       "      <td>0.0</td>\n",
       "      <td>0.0</td>\n",
       "      <td>1.0</td>\n",
       "      <td>1.0</td>\n",
       "      <td>1.0</td>\n",
       "      <td>0.0</td>\n",
       "      <td>1.0</td>\n",
       "      <td>0.0</td>\n",
       "      <td>2.0</td>\n",
       "      <td>0.0</td>\n",
       "      <td>0.0</td>\n",
       "      <td>11.0</td>\n",
       "      <td>5.0</td>\n",
       "      <td>4.0</td>\n",
       "      <td>1_1</td>\n",
       "    </tr>\n",
       "  </tbody>\n",
       "</table>\n",
       "</div>"
      ],
      "text/plain": [
       "  HeartDiseaseorAttack HighBP HighChol CholCheck BMI Smoker Stroke Diabetes  \\\n",
       "0                  0.0    1.0      1.0       1.0   3    1.0    0.0      0.0   \n",
       "1                  0.0    0.0      0.0       0.0   2    1.0    0.0      0.0   \n",
       "2                  0.0    1.0      1.0       1.0   2    0.0    0.0      0.0   \n",
       "3                  0.0    1.0      0.0       1.0   2    0.0    0.0      0.0   \n",
       "4                  0.0    1.0      1.0       1.0   1    0.0    0.0      0.0   \n",
       "\n",
       "  PhysActivity Fruits Veggies HvyAlcoholConsump AnyHealthcare NoDocbcCost  \\\n",
       "0          0.0    0.0     1.0               0.0           1.0         0.0   \n",
       "1          1.0    0.0     0.0               0.0           0.0         1.0   \n",
       "2          0.0    1.0     0.0               0.0           1.0         1.0   \n",
       "3          1.0    1.0     1.0               0.0           1.0         0.0   \n",
       "4          1.0    1.0     1.0               0.0           1.0         0.0   \n",
       "\n",
       "  GenHlth DiffWalk  Sex   Age Education Income HlthComb  \n",
       "0     5.0      1.0  0.0   9.0       4.0    3.0      2_2  \n",
       "1     3.0      0.0  0.0   7.0       6.0    1.0      1_1  \n",
       "2     5.0      1.0  0.0   9.0       4.0    8.0      3_3  \n",
       "3     2.0      0.0  0.0  11.0       3.0    6.0      1_1  \n",
       "4     2.0      0.0  0.0  11.0       5.0    4.0      1_1  "
      ]
     },
     "execution_count": 44,
     "metadata": {},
     "output_type": "execute_result"
    }
   ],
   "source": [
    "df_HlthComb.head()"
   ]
  },
  {
   "cell_type": "code",
   "execution_count": 45,
   "id": "c8a63186",
   "metadata": {},
   "outputs": [
    {
     "name": "stdout",
     "output_type": "stream",
     "text": [
      "['2_2', '1_1', '3_3', '2_1', '3_1', '1_2', '1_3', '3_2', '2_3']\n",
      "Categories (9, object): ['1_1' < '1_2' < '1_3' < '2_1' ... '2_3' < '3_1' < '3_2' < '3_3']\n"
     ]
    }
   ],
   "source": [
    "print(df_HlthComb['HlthComb'].unique())"
   ]
  },
  {
   "cell_type": "code",
   "execution_count": 46,
   "id": "1df1c221",
   "metadata": {},
   "outputs": [
    {
     "name": "stdout",
     "output_type": "stream",
     "text": [
      "HeartDiseaseorAttack    category\n",
      "HighBP                  category\n",
      "HighChol                category\n",
      "CholCheck               category\n",
      "BMI                     category\n",
      "Smoker                  category\n",
      "Stroke                  category\n",
      "Diabetes                category\n",
      "PhysActivity            category\n",
      "Fruits                  category\n",
      "Veggies                 category\n",
      "HvyAlcoholConsump       category\n",
      "AnyHealthcare           category\n",
      "NoDocbcCost             category\n",
      "GenHlth                 category\n",
      "DiffWalk                category\n",
      "Sex                     category\n",
      "Age                     category\n",
      "Education               category\n",
      "Income                  category\n",
      "HlthComb                category\n",
      "dtype: object\n"
     ]
    }
   ],
   "source": [
    "df_HlthComb.to_csv('df_HlthComb.csv', index=False)\n",
    "\n",
    "# Load the data // dtype category specified to load all data as categories\n",
    "df_HlthComb = pd.read_csv('df_HlthComb.csv', dtype='category')\n",
    "df_HlthComb.index.name = 'case'\n",
    "\n",
    "#making sure all columns we want are present\n",
    "print(df_HlthComb.dtypes)"
   ]
  },
  {
   "cell_type": "code",
   "execution_count": 47,
   "id": "88d5484d",
   "metadata": {},
   "outputs": [
    {
     "data": {
      "text/plain": [
       "DecisionTreeClassifier(random_state=42)"
      ]
     },
     "execution_count": 47,
     "metadata": {},
     "output_type": "execute_result"
    }
   ],
   "source": [
    "# Encode the categorical variables as numeric using LabelEncoder\n",
    "le5 = LabelEncoder()\n",
    "for col in df_HlthComb.columns:\n",
    "    if df_HlthComb[col].dtype == 'category':\n",
    "        df_HlthComb[col] = le5.fit_transform(df_HlthComb[col])\n",
    "\n",
    "# Define the predictor and target variables\n",
    "X5 = df_HlthComb.drop(['HeartDiseaseorAttack'], axis=1)\n",
    "y5 = df_HlthComb['HeartDiseaseorAttack']\n",
    "\n",
    "# Split the data into training and testing sets\n",
    "X_train5, X_test5, y_train5, y_test5 = train_test_split(X5, y5, test_size=0.2, random_state=42)\n",
    "\n",
    "# Create a decision tree model\n",
    "dt5 = DecisionTreeClassifier(random_state=42)\n",
    "\n",
    "# Fit the model to the training data\n",
    "dt5.fit(X_train5, y_train5)\n",
    "\n",
    "# Plot the decision tree\n",
    "#dont need to plot, not legible and very taxing on computer/ takes long time to run\n",
    "#plot_tree(dt, feature_names=X.columns, class_names=['0','1'], filled=True)"
   ]
  },
  {
   "cell_type": "code",
   "execution_count": 48,
   "id": "7527e618",
   "metadata": {},
   "outputs": [
    {
     "data": {
      "image/png": "[encoded data removed]",
      "text/plain": [
       "<Figure size 1440x720 with 1 Axes>"
      ]
     },
     "metadata": {
      "needs_background": "light"
     },
     "output_type": "display_data"
    }
   ],
   "source": [
    "# Feature Importance based on decision tree model\n",
    "\n",
    "import matplotlib.pyplot as plt\n",
    "\n",
    "plt.figure(figsize=(20,10))\n",
    "plt.barh(X_train5.columns, dt5.feature_importances_)\n",
    "plt.show()"
   ]
  },
  {
   "cell_type": "markdown",
   "id": "6c1a4c7b",
   "metadata": {},
   "source": [
    "Interesting finding here is when we combine PhysHlth and MentHlth to column HlthComb, that new category Hlth_Comb becomes a signinficant predictor "
   ]
  },
  {
   "cell_type": "markdown",
   "id": "6b52359f",
   "metadata": {},
   "source": [
    "## Running the Decision Tree for HD+Stroke with Fused Data HlthComb"
   ]
  },
  {
   "cell_type": "code",
   "execution_count": 49,
   "id": "fc8d870d",
   "metadata": {},
   "outputs": [],
   "source": [
    "# Load the dataframes\n",
    "df_HlthComb = pd.read_csv('df_HlthComb.csv', dtype='category')\n",
    "df_hd_stroke = pd.read_csv('df_hd_stroke.csv', dtype='category')\n",
    "\n",
    "# Select the 'HD+Stroke' column from df_hd_stroke\n",
    "hd_stroke = df_hd_stroke['HD+Stroke']\n",
    "\n",
    "# Concatenate the two dataframes along axis=1\n",
    "hd_stroke_HlthComb = pd.concat([df_HlthComb, hd_stroke], axis=1)"
   ]
  },
  {
   "cell_type": "code",
   "execution_count": 50,
   "id": "87d445e7",
   "metadata": {},
   "outputs": [],
   "source": [
    "hd_stroke_HlthComb = hd_stroke_HlthComb.drop([\"HeartDiseaseorAttack\", \"Stroke\"], axis=1)\n",
    "#print(hd_stroke_HlthComb.dtypes)"
   ]
  },
  {
   "cell_type": "code",
   "execution_count": 51,
   "id": "3a077b83",
   "metadata": {},
   "outputs": [
    {
     "name": "stdout",
     "output_type": "stream",
     "text": [
      "HighBP               category\n",
      "HighChol             category\n",
      "CholCheck            category\n",
      "BMI                  category\n",
      "Smoker               category\n",
      "Diabetes             category\n",
      "PhysActivity         category\n",
      "Fruits               category\n",
      "Veggies              category\n",
      "HvyAlcoholConsump    category\n",
      "AnyHealthcare        category\n",
      "NoDocbcCost          category\n",
      "GenHlth              category\n",
      "DiffWalk             category\n",
      "Sex                  category\n",
      "Age                  category\n",
      "Education            category\n",
      "Income               category\n",
      "HlthComb             category\n",
      "HD+Stroke            category\n",
      "dtype: object\n"
     ]
    }
   ],
   "source": [
    "#df_hd_stroke csv will be fused HD+Stroke data\n",
    "hd_stroke_HlthComb.to_csv('hd_stroke_HlthComb.csv', index=False)\n",
    "\n",
    "# Load the data // dtype category specified to load all data as categories\n",
    "\n",
    "hd_stroke_HlthComb = pd.read_csv('hd_stroke_HlthComb.csv', dtype='category')\n",
    "hd_stroke_HlthComb.index.name = 'case'\n",
    "\n",
    "#making sure all columns we want are present\n",
    "print(hd_stroke_HlthComb.dtypes)"
   ]
  },
  {
   "cell_type": "code",
   "execution_count": 52,
   "id": "6cbc5446",
   "metadata": {},
   "outputs": [
    {
     "data": {
      "text/plain": [
       "DecisionTreeClassifier(random_state=42)"
      ]
     },
     "execution_count": 52,
     "metadata": {},
     "output_type": "execute_result"
    }
   ],
   "source": [
    "# Encode the categorical variables as numeric using LabelEncoder\n",
    "le6 = LabelEncoder()\n",
    "for col in hd_stroke_HlthComb.columns:\n",
    "    if hd_stroke_HlthComb[col].dtype == 'category':\n",
    "        hd_stroke_HlthComb[col] = le6.fit_transform(hd_stroke_HlthComb[col])\n",
    "\n",
    "# Define the predictor and target variables\n",
    "X6 = hd_stroke_HlthComb.drop(['HD+Stroke'], axis=1)\n",
    "y6 = hd_stroke_HlthComb['HD+Stroke']\n",
    "\n",
    "# Split the data into training and testing sets\n",
    "X_train6, X_test6, y_train6, y_test6 = train_test_split(X6, y6, test_size=0.2, random_state=42)\n",
    "\n",
    "# Create a decision tree model\n",
    "dt6 = DecisionTreeClassifier(random_state=42)\n",
    "\n",
    "# Fit the model to the training data\n",
    "dt6.fit(X_train6, y_train6)\n",
    "\n",
    "# Plot the decision tree\n",
    "#dont need to plot, not legible and very taxing on computer/ takes long time to run\n",
    "#plot_tree(dt, feature_names=X.columns, class_names=['0','1'], filled=True)"
   ]
  },
  {
   "cell_type": "code",
   "execution_count": 53,
   "id": "ea6b8608",
   "metadata": {},
   "outputs": [
    {
     "data": {
      "image/png": "[encoded data removed]",
      "text/plain": [
       "<Figure size 1440x720 with 1 Axes>"
      ]
     },
     "metadata": {
      "needs_background": "light"
     },
     "output_type": "display_data"
    }
   ],
   "source": [
    "# Feature Importance based on decision tree model\n",
    "\n",
    "import matplotlib.pyplot as plt\n",
    "\n",
    "plt.figure(figsize=(20,10))\n",
    "plt.barh(X_train6.columns, dt6.feature_importances_)\n",
    "plt.show()"
   ]
  },
  {
   "cell_type": "markdown",
   "id": "5cdf6d31",
   "metadata": {},
   "source": [
    "Findings are consistent with the original data as well"
   ]
  },
  {
   "cell_type": "markdown",
   "id": "792bdcea",
   "metadata": {},
   "source": [
    "# Key Take Aways from Fusing PhysHlth and MentHlth"
   ]
  },
  {
   "cell_type": "markdown",
   "id": "5b857494",
   "metadata": {},
   "source": [
    "After fusing the two varaibles to make the new variable \"HlthComb\" it has given us more predictive power in both cases testing it against response HeartDiseaseorAttack and HD+Stroke data"
   ]
  },
  {
   "cell_type": "markdown",
   "id": "14b015bc",
   "metadata": {},
   "source": [
    "# Final Take Aways from Decision Trees"
   ]
  },
  {
   "cell_type": "markdown",
   "id": "627c93d0",
   "metadata": {},
   "source": [
    "After looking back at entropy and realizing that PhysHlth and MentHlth had really low entropies, I wanted to go back and explore with these two variables. After fusing these two variables I got some interesting insight in that **Income, Education, Age, GenHlth, and BMI** stayed consistent with predictive power but now **HlthComb** is also considered a significant predictor. So all in all the significant predictors include: **Income, Education, Age, GenHlth, BMI, and HlthComb**"
   ]
  }
 ],
 "metadata": {
  "kernelspec": {
   "display_name": "Python 3 (ipykernel)",
   "language": "python",
   "name": "python3"
  },
  "language_info": {
   "codemirror_mode": {
    "name": "ipython",
    "version": 3
   },
   "file_extension": ".py",
   "mimetype": "text/x-python",
   "name": "python",
   "nbconvert_exporter": "python",
   "pygments_lexer": "ipython3",
   "version": "3.9.12"
  }
 },
 "nbformat": 4,
 "nbformat_minor": 5
}
